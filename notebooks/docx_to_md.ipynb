{
 "cells": [
  {
   "cell_type": "code",
   "id": "initial_id",
   "metadata": {
    "collapsed": true,
    "ExecuteTime": {
     "end_time": "2025-05-23T13:20:00.254996Z",
     "start_time": "2025-05-23T13:20:00.188076Z"
    }
   },
   "source": [
    "from docx import Document\n",
    "import pandas as pd\n",
    "import re\n",
    "from pathlib import Path\n",
    "import sys\n",
    "\n",
    "\n",
    "\n"
   ],
   "outputs": [],
   "execution_count": 5
  },
  {
   "metadata": {
    "ExecuteTime": {
     "end_time": "2025-05-23T13:20:00.346413Z",
     "start_time": "2025-05-23T13:20:00.283634Z"
    }
   },
   "cell_type": "code",
   "source": [
    "# Add project root to sys.path so you can import path_config regardless of notebook location\n",
    "sys.path.append(str(Path.cwd().parents[2]))  # adjust depth as needed if notebook is deep in folders\n",
    "\n",
    "try:\n",
    "    from path_config import project_path, project_papers_path, project_data_exports_path\n",
    "except ImportError:\n",
    "    raise ImportError(\"Could not import path_config. Ensure path_config.py exists in the project root and sys.path is correctly set.\")\n",
    "\n",
    "# Print paths for debugging\n",
    "print(f'project_path: {project_path}')\n",
    "print(f'project_papers_path: {project_papers_path}')\n",
    "print(f'project_data_exports_path: {project_data_exports_path}')"
   ],
   "id": "2a16356e1244bab8",
   "outputs": [
    {
     "name": "stdout",
     "output_type": "stream",
     "text": [
      "project_path: /Users/chrisizenour/Library/CloudStorage/Dropbox/python/projects/football\n",
      "project_papers_path: /Users/chrisizenour/Library/CloudStorage/Dropbox/python/projects/football/papers\n",
      "project_data_exports_path: /Users/chrisizenour/Library/CloudStorage/Dropbox/python/projects/football/data/exports\n"
     ]
    }
   ],
   "execution_count": 6
  },
  {
   "metadata": {
    "ExecuteTime": {
     "end_time": "2025-05-23T13:20:00.663510Z",
     "start_time": "2025-05-23T13:20:00.538647Z"
    }
   },
   "cell_type": "code",
   "source": [
    "def docx_to_markdown(docx_path, output_md_path):\n",
    "    \"\"\"\n",
    "    Convert a .docx file to Markdown, handling headings, paragraphs, and tables.\n",
    "\n",
    "    Args:\n",
    "        docx_path (Path or str): Path to the input .docx file.\n",
    "        output_md_path (Path or str): Path to save the output .md file.\n",
    "    \"\"\"\n",
    "    # Convert paths to Path objects for robust handling\n",
    "    docx_path = Path(docx_path)\n",
    "    output_md_path = Path(output_md_path)\n",
    "\n",
    "    # Check if input file exists\n",
    "    if not docx_path.exists():\n",
    "        raise FileNotFoundError(f\"Input file not found: {docx_path}\")\n",
    "\n",
    "    # Ensure output directory exists\n",
    "    output_md_path.parent.mkdir(parents=True, exist_ok=True)\n",
    "\n",
    "    # Load the .docx file\n",
    "    doc = Document(docx_path)\n",
    "\n",
    "    # Initialize Markdown content\n",
    "    markdown = []\n",
    "\n",
    "    # Process each paragraph\n",
    "    for para in doc.paragraphs:\n",
    "        text = para.text.strip()\n",
    "        if not text:\n",
    "            continue\n",
    "\n",
    "        # Handle headings based on style\n",
    "        style = para.style.name.lower()\n",
    "        if 'heading 1' in style:\n",
    "            markdown.append(f\"# {text}\")\n",
    "        elif 'heading 2' in style:\n",
    "            markdown.append(f\"## {text}\")\n",
    "        elif 'heading 3' in style:\n",
    "            markdown.append(f\"### {text}\")\n",
    "        else:\n",
    "            # Handle italicized study titles (e.g., *Leeds and Kowalewski (2001)*)\n",
    "            if text.startswith('*') and text.endswith('*'):\n",
    "                markdown.append(text)\n",
    "            else:\n",
    "                markdown.append(text)\n",
    "\n",
    "        # Add a blank line after each paragraph for Markdown readability\n",
    "        markdown.append(\"\")\n",
    "\n",
    "    # Process tables (e.g., Table 1)\n",
    "    for table in doc.tables:\n",
    "        # Extract table data\n",
    "        table_data = []\n",
    "        for row in table.rows:\n",
    "            row_data = [cell.text.strip() for cell in row.cells]\n",
    "            table_data.append(row_data)\n",
    "\n",
    "        # Convert to pandas DataFrame for easier Markdown table creation\n",
    "        df = pd.DataFrame(table_data[1:], columns=table_data[0])\n",
    "\n",
    "        # Create Markdown table\n",
    "        markdown.append(\"**Table 1: Summary of Cited Studies’ Characteristics and Limitations**\")\n",
    "        markdown.append(\"\")\n",
    "        markdown.append(df.to_markdown(index=False))\n",
    "        markdown.append(\"\")\n",
    "\n",
    "    # Save to Markdown file\n",
    "    with open(output_md_path, 'w', encoding='utf-8') as f:\n",
    "        f.write('\\n'.join(markdown))\n",
    "\n",
    "    print(f\"Markdown file saved to {output_md_path}\")"
   ],
   "id": "1553d2c7f33440be",
   "outputs": [],
   "execution_count": 7
  },
  {
   "metadata": {
    "ExecuteTime": {
     "end_time": "2025-05-23T13:20:00.969540Z",
     "start_time": "2025-05-23T13:20:00.810420Z"
    }
   },
   "cell_type": "code",
   "source": [
    "# Example usage with path_config\n",
    "docx_filename = \"nfl_salary_cap_literature_review_20250511.docx\"\n",
    "output_md_filename = \"literature_review.md\"\n",
    "\n",
    "# Construct paths using path_config\n",
    "docx_path = Path(project_papers_path) / docx_filename\n",
    "output_md_path = Path(project_papers_path) / output_md_filename\n",
    "\n",
    "# Run conversion\n",
    "try:\n",
    "    docx_to_markdown(docx_path, output_md_path)\n",
    "except Exception as e:\n",
    "    print(f\"Error during conversion: {e}\")"
   ],
   "id": "aab4ca1b0e0580e9",
   "outputs": [
    {
     "name": "stdout",
     "output_type": "stream",
     "text": [
      "Markdown file saved to /Users/chrisizenour/Library/CloudStorage/Dropbox/python/projects/football/papers/literature_review.md\n"
     ]
    }
   ],
   "execution_count": 8
  }
 ],
 "metadata": {
  "kernelspec": {
   "display_name": "Python 3",
   "language": "python",
   "name": "python3"
  },
  "language_info": {
   "codemirror_mode": {
    "name": "ipython",
    "version": 2
   },
   "file_extension": ".py",
   "mimetype": "text/x-python",
   "name": "python",
   "nbconvert_exporter": "python",
   "pygments_lexer": "ipython2",
   "version": "2.7.6"
  }
 },
 "nbformat": 4,
 "nbformat_minor": 5
}
