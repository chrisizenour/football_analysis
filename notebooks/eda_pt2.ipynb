{
 "cells": [
  {
   "cell_type": "code",
   "id": "initial_id",
   "metadata": {
    "collapsed": true,
    "ExecuteTime": {
     "end_time": "2025-05-12T18:04:56.671202Z",
     "start_time": "2025-05-12T18:04:56.661321Z"
    }
   },
   "source": [
    ""
   ],
   "outputs": [],
   "execution_count": null
  },
  {
   "metadata": {},
   "cell_type": "markdown",
   "source": "# Imports",
   "id": "1154621040424ae9"
  },
  {
   "metadata": {
    "ExecuteTime": {
     "end_time": "2025-05-12T18:04:56.882626Z",
     "start_time": "2025-05-12T18:04:56.869848Z"
    }
   },
   "cell_type": "code",
   "source": [
    "import re\n",
    "import pandas as pd\n",
    "import numpy as np\n",
    "import scipy\n",
    "import requests\n",
    "from bs4 import BeautifulSoup\n",
    "from scipy.stats import linregress\n",
    "from scipy import stats\n",
    "import scipy.stats as stats\n",
    "from scipy.stats import pearsonr, linregress\n",
    "import statsmodels.api as sm\n",
    "import pingouin as pg\n",
    "from statsmodels.stats.multitest import multipletests\n",
    "from pathlib import Path\n",
    "import sys\n",
    "import matplotlib.pyplot as plt\n",
    "import matplotlib.patches as mpatches\n",
    "import matplotlib.ticker as ticker\n",
    "from matplotlib.colors import ListedColormap\n",
    "import matplotlib.dates as mdates\n",
    "import warnings\n",
    "import matplotlib.cbook\n",
    "import matplotlib.dates as mdates\n",
    "import streamlit as st\n",
    "import plotly.express as px\n",
    "import plotly.graph_objects as go\n",
    "import plotly.io as pio\n",
    "pio.renderers.default = 'notebook'\n",
    "import plotly.offline as pyo\n",
    "pyo.init_notebook_mode(connected=True)\n",
    "import seaborn as sns\n",
    "sns.set_theme(style=\"white\")\n",
    "# import calplot\n",
    "# import july\n",
    "import time\n",
    "\n",
    "from sklearn.pipeline import Pipeline\n",
    "\n",
    "from sklearn.preprocessing import StandardScaler, OneHotEncoder, MinMaxScaler\n",
    "from sklearn.compose import TransformedTargetRegressor, make_column_transformer, ColumnTransformer, make_column_selector\n",
    "from sklearn.decomposition import PCA\n",
    "from sklearn.impute import SimpleImputer\n",
    "from sklearn.model_selection import train_test_split, GridSearchCV, KFold, cross_val_score\n",
    "from sklearn.cluster import KMeans\n",
    "from sklearn.mixture import GaussianMixture\n",
    "from sklearn.metrics import silhouette_score\n",
    "from sklearn.metrics import silhouette_score, adjusted_rand_score,r2_score, mean_squared_error, accuracy_score, precision_score, recall_score, roc_auc_score, f1_score, roc_curve, precision_recall_curve, auc, confusion_matrix\n",
    "from sklearn.model_selection import RepeatedKFold, cross_val_score\n",
    "\n",
    "from sklearn.linear_model import LinearRegression, Ridge, Lasso, LogisticRegression, RidgeClassifier\n",
    "from sklearn.neighbors import KNeighborsRegressor, KNeighborsClassifier\n",
    "from sklearn.tree import DecisionTreeRegressor, plot_tree, DecisionTreeClassifier\n",
    "\n",
    "from sklearn.ensemble import RandomForestRegressor, RandomForestClassifier\n",
    "# from xgboost import XGBRegressor, XGBRFClassifier"
   ],
   "id": "e18f3c4684921323",
   "outputs": [
    {
     "data": {
      "text/html": [
       "        <script type=\"text/javascript\">\n",
       "        window.PlotlyConfig = {MathJaxConfig: 'local'};\n",
       "        if (window.MathJax && window.MathJax.Hub && window.MathJax.Hub.Config) {window.MathJax.Hub.Config({SVG: {font: \"STIX-Web\"}});}\n",
       "        if (typeof require !== 'undefined') {\n",
       "        require.undef(\"plotly\");\n",
       "        requirejs.config({\n",
       "            paths: {\n",
       "                'plotly': ['https://cdn.plot.ly/plotly-2.35.2.min']\n",
       "            }\n",
       "        });\n",
       "        require(['plotly'], function(Plotly) {\n",
       "            window._Plotly = Plotly;\n",
       "        });\n",
       "        }\n",
       "        </script>\n",
       "        "
      ]
     },
     "metadata": {},
     "output_type": "display_data"
    }
   ],
   "execution_count": 28
  },
  {
   "metadata": {
    "ExecuteTime": {
     "end_time": "2025-05-12T18:04:57.124984Z",
     "start_time": "2025-05-12T18:04:57.118265Z"
    }
   },
   "cell_type": "code",
   "source": [
    "# Add project root to sys.path so you can import path_config regardless of notebook location\n",
    "sys.path.append(str(Path.cwd().parents[2]))  # adjust depth as needed if notebook is deep in folders\n",
    "\n",
    "from path_config import project_path, project_data_sources_path, project_data_exports_path\n",
    "\n",
    "print(f'project_path: {project_path}')\n",
    "print(f'project_data_sources_path: {project_data_sources_path}')\n",
    "print(f'project_data_exports_path: {project_data_exports_path}')"
   ],
   "id": "b8c221a0117f0c4d",
   "outputs": [
    {
     "name": "stdout",
     "output_type": "stream",
     "text": [
      "project_path: /Users/chrisizenour/Library/CloudStorage/Dropbox/python/projects/football\n",
      "project_data_sources_path: /Users/chrisizenour/Library/CloudStorage/Dropbox/python/projects/football/data/sources\n",
      "project_data_exports_path: /Users/chrisizenour/Library/CloudStorage/Dropbox/python/projects/football/data/exports\n"
     ]
    }
   ],
   "execution_count": 29
  },
  {
   "metadata": {
    "ExecuteTime": {
     "end_time": "2025-05-12T18:04:57.321583Z",
     "start_time": "2025-05-12T18:04:57.318093Z"
    }
   },
   "cell_type": "code",
   "source": [
    "# project_path = Path.cwd()\n",
    "# print(f'project_path: {project_path}')\n",
    "# print('')\n",
    "# project_data_sources_path = Path.cwd() / 'data' / 'sources'\n",
    "# print(f'project_data_sources_path: {project_data_sources_path}')\n",
    "# print('')\n",
    "# project_data_exports_path = Path.cwd() / 'data' / 'exports'\n",
    "# print(f'project_data_exports_path: {project_data_exports_path}')"
   ],
   "id": "76c6e3f9f7cf5076",
   "outputs": [],
   "execution_count": 30
  },
  {
   "metadata": {},
   "cell_type": "markdown",
   "source": "# User Defined Functions",
   "id": "f81f13500256c152"
  },
  {
   "metadata": {},
   "cell_type": "markdown",
   "source": "## Dataset Import and Wrangling",
   "id": "d52bbb0e4cceb13"
  },
  {
   "metadata": {
    "ExecuteTime": {
     "end_time": "2025-05-12T18:04:57.434657Z",
     "start_time": "2025-05-12T18:04:57.431666Z"
    }
   },
   "cell_type": "code",
   "source": [
    "def load_game_results_dataset():\n",
    "    df = pd.read_csv(\n",
    "        project_data_exports_path / 'game_results_df.csv',\n",
    "        # sheet_name='Sheet1 (2)',\n",
    "        # header=1,\n",
    "        # engine='openpyxl',\n",
    "    )\n",
    "    # df = df.iloc[:-2]\n",
    "    if 'Unnamed: 0' in df.columns:\n",
    "        df = df.drop(columns=['Unnamed: 0'])\n",
    "    print(f'Shape of dataframe: {df.shape[0]} rows, {df.shape[1]} columns')\n",
    "    return df"
   ],
   "id": "ba8d8908a4830f78",
   "outputs": [],
   "execution_count": 31
  },
  {
   "metadata": {
    "ExecuteTime": {
     "end_time": "2025-05-12T18:04:57.518883Z",
     "start_time": "2025-05-12T18:04:57.514077Z"
    }
   },
   "cell_type": "code",
   "source": [
    "def load_passing_offense_dataset():\n",
    "    df = pd.read_csv(\n",
    "        project_data_exports_path / 'passing_offense_df.csv',\n",
    "        # sheet_name='Sheet1',\n",
    "        # header=1,\n",
    "        # engine='openpyxl',\n",
    "    )\n",
    "    # df = df.iloc[:-2]\n",
    "    if 'Unnamed: 0' in df.columns:\n",
    "        df = df.drop(columns=['Unnamed: 0'])\n",
    "    print(f'Shape of dataframe: {df.shape[0]} rows, {df.shape[1]} columns')\n",
    "    return df"
   ],
   "id": "236b47261bce6956",
   "outputs": [],
   "execution_count": 32
  },
  {
   "metadata": {
    "ExecuteTime": {
     "end_time": "2025-05-12T18:04:57.606578Z",
     "start_time": "2025-05-12T18:04:57.602660Z"
    }
   },
   "cell_type": "code",
   "source": [
    "def load_receiving_offense_dataset():\n",
    "    df = pd.read_csv(\n",
    "        project_data_exports_path / 'receiving_offense_df.csv',\n",
    "        # sheet_name='Sheet1',\n",
    "        # header=1,\n",
    "        # engine='openpyxl',\n",
    "    )\n",
    "    # df = df.iloc[:-2]\n",
    "    if 'Unnamed: 0' in df.columns:\n",
    "        df = df.drop(columns=['Unnamed: 0'])\n",
    "    print(f'Shape of dataframe: {df.shape[0]} rows, {df.shape[1]} columns')\n",
    "    return df"
   ],
   "id": "d4400d8697a2be4",
   "outputs": [],
   "execution_count": 33
  },
  {
   "metadata": {
    "ExecuteTime": {
     "end_time": "2025-05-12T18:04:57.707190Z",
     "start_time": "2025-05-12T18:04:57.701553Z"
    }
   },
   "cell_type": "code",
   "source": [
    "def load_rushing_offense_dataset():\n",
    "    df = pd.read_csv(\n",
    "        project_data_exports_path / 'rushing_offense_df.csv',\n",
    "        # sheet_name='Sheet1',\n",
    "        # header=1,\n",
    "        # engine='openpyxl',\n",
    "    )\n",
    "    # df = df.iloc[:-2]\n",
    "    if 'Unnamed: 0' in df.columns:\n",
    "        df = df.drop(columns=['Unnamed: 0'])\n",
    "    print(f'Shape of dataframe: {df.shape[0]} rows, {df.shape[1]} columns')\n",
    "    return df"
   ],
   "id": "50986d49a93c600d",
   "outputs": [],
   "execution_count": 34
  },
  {
   "metadata": {
    "ExecuteTime": {
     "end_time": "2025-05-12T18:04:57.792626Z",
     "start_time": "2025-05-12T18:04:57.789646Z"
    }
   },
   "cell_type": "code",
   "source": [
    "def load_spotrac_dataset():\n",
    "    df = pd.read_csv(\n",
    "        project_data_exports_path / 'spotrac_salary_cap_data_df.csv',\n",
    "        # sheet_name='Sheet1',\n",
    "        # header=1,\n",
    "        # engine='openpyxl',\n",
    "    )\n",
    "    # df = df.iloc[:-2]\n",
    "    if 'Unnamed: 0' in df.columns:\n",
    "        df = df.drop(columns=['Unnamed: 0'])\n",
    "    print(f'Shape of dataframe: {df.shape[0]} rows, {df.shape[1]} columns')\n",
    "    return df"
   ],
   "id": "96c5b5f438c04916",
   "outputs": [],
   "execution_count": 35
  },
  {
   "metadata": {
    "ExecuteTime": {
     "end_time": "2025-05-12T18:04:57.881934Z",
     "start_time": "2025-05-12T18:04:57.879176Z"
    }
   },
   "cell_type": "code",
   "source": [
    "def load_nfl_season_records_dataset():\n",
    "    df = pd.read_csv(\n",
    "        project_data_exports_path / 'nfl_season_records_df.csv',\n",
    "        # sheet_name='Sheet1',\n",
    "        # header=1,\n",
    "        # engine='openpyxl',\n",
    "    )\n",
    "    # df = df.iloc[:-2]\n",
    "    if 'Unnamed: 0' in df.columns:\n",
    "        df = df.drop(columns=['Unnamed: 0'])\n",
    "    print(f'Shape of dataframe: {df.shape[0]} rows, {df.shape[1]} columns')\n",
    "    return df"
   ],
   "id": "2b8f5e1dcfd32672",
   "outputs": [],
   "execution_count": 36
  },
  {
   "metadata": {
    "ExecuteTime": {
     "end_time": "2025-05-12T18:04:58.025385Z",
     "start_time": "2025-05-12T18:04:58.018607Z"
    }
   },
   "cell_type": "code",
   "source": [
    "def load_spotrac_nfl_records_dataset():\n",
    "    df = pd.read_csv(\n",
    "        project_data_exports_path / 'spotrac_nfl_records_df.csv',\n",
    "        # sheet_name='Sheet1',\n",
    "        # header=1,\n",
    "        # engine='openpyxl',\n",
    "    )\n",
    "    # df = df.iloc[:-2]\n",
    "    if 'Unnamed: 0' in df.columns:\n",
    "        df = df.drop(columns=['Unnamed: 0'])\n",
    "    print(f'Shape of dataframe: {df.shape[0]} rows, {df.shape[1]} columns')\n",
    "    return df"
   ],
   "id": "da9a30f2fc12bd3",
   "outputs": [],
   "execution_count": 37
  },
  {
   "metadata": {
    "ExecuteTime": {
     "end_time": "2025-05-12T18:04:58.108778Z",
     "start_time": "2025-05-12T18:04:58.104474Z"
    }
   },
   "cell_type": "code",
   "source": [
    "def load_team_season_records_stats_dataset():\n",
    "    df = pd.read_csv(\n",
    "        project_data_exports_path / 'team_season_records_stats_df.csv',\n",
    "        # sheet_name='Sheet1',\n",
    "        # header=1,\n",
    "        # engine='openpyxl',\n",
    "    )\n",
    "    # df = df.iloc[:-2]\n",
    "    if 'Unnamed: 0' in df.columns:\n",
    "        df = df.drop(columns=['Unnamed: 0'])\n",
    "    print(f'Shape of dataframe: {df.shape[0]} rows, {df.shape[1]} columns')\n",
    "    return df"
   ],
   "id": "87e3e9f02fd765c1",
   "outputs": [],
   "execution_count": 38
  },
  {
   "metadata": {
    "ExecuteTime": {
     "end_time": "2025-05-12T18:04:58.195505Z",
     "start_time": "2025-05-12T18:04:58.191688Z"
    }
   },
   "cell_type": "code",
   "source": [
    "def load_spotrac_nfl_team_season_roster_df_dataset():\n",
    "    df = pd.read_csv(\n",
    "        project_data_exports_path / 'spotrac_nfl_team_season_roster_df.csv',\n",
    "        # sheet_name='Sheet1',\n",
    "        # header=1,\n",
    "        # engine='openpyxl',\n",
    "    )\n",
    "    # df = df.iloc[:-2]\n",
    "    if 'Unnamed: 0' in df.columns:\n",
    "        df = df.drop(columns=['Unnamed: 0'])\n",
    "    print(f'Shape of dataframe: {df.shape[0]} rows, {df.shape[1]} columns')\n",
    "    return df"
   ],
   "id": "ba03d98a1b9ffe62",
   "outputs": [],
   "execution_count": 39
  },
  {
   "metadata": {
    "ExecuteTime": {
     "end_time": "2025-05-12T18:04:58.282811Z",
     "start_time": "2025-05-12T18:04:58.279303Z"
    }
   },
   "cell_type": "code",
   "source": [
    "def load_spotrac_nfl_team_season_roster_pos_df_dataset():\n",
    "    df = pd.read_csv(\n",
    "        project_data_exports_path / 'spotrac_nfl_team_season_roster_pos_df.csv',\n",
    "        # sheet_name='Sheet1',\n",
    "        # header=1,\n",
    "        # engine='openpyxl',\n",
    "    )\n",
    "    # df = df.iloc[:-2]\n",
    "    if 'Unnamed: 0' in df.columns:\n",
    "        df = df.drop(columns=['Unnamed: 0'])\n",
    "    print(f'Shape of dataframe: {df.shape[0]} rows, {df.shape[1]} columns')\n",
    "    return df"
   ],
   "id": "97eb02f2413a12a4",
   "outputs": [],
   "execution_count": 40
  },
  {
   "metadata": {
    "ExecuteTime": {
     "end_time": "2025-05-12T18:04:58.373257Z",
     "start_time": "2025-05-12T18:04:58.369375Z"
    }
   },
   "cell_type": "code",
   "source": [
    "def load_spotrac_nfl_team_season_roster_position_level_one_df_dataset():\n",
    "    df = pd.read_csv(\n",
    "        project_data_exports_path / 'spotrac_nfl_team_season_roster_position_level_one_df.csv',\n",
    "        # sheet_name='Sheet1',\n",
    "        # header=1,\n",
    "        # engine='openpyxl',\n",
    "    )\n",
    "    # df = df.iloc[:-2]\n",
    "    if 'Unnamed: 0' in df.columns:\n",
    "        df = df.drop(columns=['Unnamed: 0'])\n",
    "    print(f'Shape of dataframe: {df.shape[0]} rows, {df.shape[1]} columns')\n",
    "    return df"
   ],
   "id": "d423374cab6d1ae7",
   "outputs": [],
   "execution_count": 41
  },
  {
   "metadata": {
    "ExecuteTime": {
     "end_time": "2025-05-12T18:04:58.460704Z",
     "start_time": "2025-05-12T18:04:58.457231Z"
    }
   },
   "cell_type": "code",
   "source": [
    "def load_spotrac_nfl_team_season_roster_position_level_two_df_dataset():\n",
    "    df = pd.read_csv(\n",
    "        project_data_exports_path / 'spotrac_nfl_team_season_roster_position_level_two_df.csv',\n",
    "        # sheet_name='Sheet1',\n",
    "        # header=1,\n",
    "        # engine='openpyxl',\n",
    "    )\n",
    "    # df = df.iloc[:-2]\n",
    "    if 'Unnamed: 0' in df.columns:\n",
    "        df = df.drop(columns=['Unnamed: 0'])\n",
    "    print(f'Shape of dataframe: {df.shape[0]} rows, {df.shape[1]} columns')\n",
    "    return df"
   ],
   "id": "815aab2bd6a90ded",
   "outputs": [],
   "execution_count": 42
  },
  {
   "metadata": {
    "ExecuteTime": {
     "end_time": "2025-05-12T18:04:58.535187Z",
     "start_time": "2025-05-12T18:04:58.531375Z"
    }
   },
   "cell_type": "code",
   "source": [
    "def load_spotrac_nfl_team_position_level_one_active_inactive_grouped_dataset():\n",
    "    df = pd.read_csv(\n",
    "        project_data_exports_path / 'spotrac_nfl_team_position_level_one_active_inactive_grouped_df.csv',\n",
    "        # sheet_name='Sheet1',\n",
    "        # header=1,\n",
    "        # engine='openpyxl',\n",
    "    )\n",
    "    # df = df.iloc[:-2]\n",
    "    if 'Unnamed: 0' in df.columns:\n",
    "        df = df.drop(columns=['Unnamed: 0'])\n",
    "    print(f'Shape of dataframe: {df.shape[0]} rows, {df.shape[1]} columns')\n",
    "    return df"
   ],
   "id": "5ea2021da817818b",
   "outputs": [],
   "execution_count": 43
  },
  {
   "metadata": {
    "ExecuteTime": {
     "end_time": "2025-05-12T18:04:58.622126Z",
     "start_time": "2025-05-12T18:04:58.619249Z"
    }
   },
   "cell_type": "code",
   "source": [
    "def load_spotrac_nfl_team_position_level_two_active_inactive_grouped_dataset():\n",
    "    df = pd.read_csv(\n",
    "        project_data_exports_path / 'spotrac_nfl_team_position_level_two_active_inactive_grouped_df.csv',\n",
    "        # sheet_name='Sheet1',\n",
    "        # header=1,\n",
    "        # engine='openpyxl',\n",
    "    )\n",
    "    # df = df.iloc[:-2]\n",
    "    if 'Unnamed: 0' in df.columns:\n",
    "        df = df.drop(columns=['Unnamed: 0'])\n",
    "    print(f'Shape of dataframe: {df.shape[0]} rows, {df.shape[1]} columns')\n",
    "    return df"
   ],
   "id": "26db9cc430703571",
   "outputs": [],
   "execution_count": 44
  },
  {
   "metadata": {
    "ExecuteTime": {
     "end_time": "2025-05-12T18:04:58.699017Z",
     "start_time": "2025-05-12T18:04:58.696218Z"
    }
   },
   "cell_type": "code",
   "source": [
    "def load_spotrac_nfl_team_pos_level_one_grouped_dataset():\n",
    "    df = pd.read_csv(\n",
    "        project_data_exports_path / 'spotrac_nfl_team_pos_level_one_grouped_df.csv',\n",
    "        # sheet_name='Sheet1',\n",
    "        # header=1,\n",
    "        # engine='openpyxl',\n",
    "    )\n",
    "    # df = df.iloc[:-2]\n",
    "    if 'Unnamed: 0' in df.columns:\n",
    "        df = df.drop(columns=['Unnamed: 0'])\n",
    "    print(f'Shape of dataframe: {df.shape[0]} rows, {df.shape[1]} columns')\n",
    "    return df"
   ],
   "id": "54ba2d0cf4c1a1c2",
   "outputs": [],
   "execution_count": 45
  },
  {
   "metadata": {
    "ExecuteTime": {
     "end_time": "2025-05-12T18:04:58.780758Z",
     "start_time": "2025-05-12T18:04:58.777863Z"
    }
   },
   "cell_type": "code",
   "source": [
    "def load_spotrac_nfl_team_pos_level_two_grouped_dataset():\n",
    "    df = pd.read_csv(\n",
    "        project_data_exports_path / 'spotrac_nfl_team_pos_level_two_grouped_df.csv',\n",
    "        # sheet_name='Sheet1',\n",
    "        # header=1,\n",
    "        # engine='openpyxl',\n",
    "    )\n",
    "    # df = df.iloc[:-2]\n",
    "    if 'Unnamed: 0' in df.columns:\n",
    "        df = df.drop(columns=['Unnamed: 0'])\n",
    "    print(f'Shape of dataframe: {df.shape[0]} rows, {df.shape[1]} columns')\n",
    "    return df"
   ],
   "id": "50703bb58b83e8d1",
   "outputs": [],
   "execution_count": 46
  },
  {
   "metadata": {
    "ExecuteTime": {
     "end_time": "2025-05-12T18:04:58.857863Z",
     "start_time": "2025-05-12T18:04:58.854361Z"
    }
   },
   "cell_type": "code",
   "source": [
    "def summary_stats_df(df, cols):\n",
    "    summary_stats_results = {}\n",
    "    for col in cols:\n",
    "        stats = df[col].agg(['count', 'mean', 'std', 'min', 'var', 'median'])\n",
    "        quartiles = df[col].quantile([0.25, 0.75])\n",
    "        summary_stats_results[col] = [stats['count'], stats['mean'], stats['std'], stats['min'], quartiles[0.25], stats['median'], quartiles[0.75], df[col].max(), stats['var']]\n",
    "\n",
    "    summary_stats_results_df = pd.DataFrame(\n",
    "        summary_stats_results,\n",
    "        index=['count', 'mean', 'std', 'min', '25%', 'median', '75%', 'max', 'variance']\n",
    "    )\n",
    "\n",
    "    return summary_stats_results_df\n"
   ],
   "id": "e6edbfd1e1608be0",
   "outputs": [],
   "execution_count": 47
  },
  {
   "metadata": {},
   "cell_type": "markdown",
   "source": "## Corr & Pval Analysis",
   "id": "e29a59cb5007d98"
  },
  {
   "metadata": {
    "ExecuteTime": {
     "end_time": "2025-05-12T18:04:58.934732Z",
     "start_time": "2025-05-12T18:04:58.931608Z"
    }
   },
   "cell_type": "code",
   "source": [
    "def correlation_matrix(df):\n",
    "    \"\"\"create correlation matrix dataframe\"\"\"\n",
    "    df_corr_mat = df.corr()\n",
    "    return df_corr_mat"
   ],
   "id": "59bb46d6553a38ce",
   "outputs": [],
   "execution_count": 48
  },
  {
   "metadata": {
    "ExecuteTime": {
     "end_time": "2025-05-12T18:04:59.021401Z",
     "start_time": "2025-05-12T18:04:59.017785Z"
    }
   },
   "cell_type": "code",
   "source": [
    "def correlation_series(df):\n",
    "    \"\"\"create a dataframe which has unique feature pairs and their associated correlation coefficient\"\"\"\n",
    "    upper_corr_mat = df.where(np.triu(np.ones(df.shape), k=1).astype(bool))\n",
    "    unique_corr_pairs = upper_corr_mat.unstack().dropna()\n",
    "    df_corr_series = unique_corr_pairs.sort_values(ascending=False)\n",
    "    df_corr_series = df_corr_series.reset_index()\n",
    "    df_corr_series = df_corr_series.rename(columns={\n",
    "        'level_0': 'feature_1',\n",
    "        'level_1': 'feature_2',\n",
    "        0: 'correlation_coefficient'\n",
    "    })\n",
    "    return df_corr_series"
   ],
   "id": "b4a65ab8e3d93c0b",
   "outputs": [],
   "execution_count": 49
  },
  {
   "metadata": {
    "ExecuteTime": {
     "end_time": "2025-05-12T18:04:59.098647Z",
     "start_time": "2025-05-12T18:04:59.095344Z"
    }
   },
   "cell_type": "code",
   "source": [
    "def correlation_plot(df, title='Correlation Heatmap'):\n",
    "    \"\"\"create a correlation heatmap plot using seaborn\"\"\"\n",
    "    mask = np.triu(np.ones_like(df, dtype=bool))\n",
    "    f, ax = plt.subplots(1, 1, figsize=(11,9), facecolor='white')\n",
    "    cmap = sns.diverging_palette(230, 20, as_cmap=True)\n",
    "    sns.heatmap(df,\n",
    "                mask=mask,\n",
    "                cmap=cmap,\n",
    "                vmax=1,\n",
    "                vmin=-1,\n",
    "                center=0,\n",
    "                annot=False,\n",
    "                square=True,\n",
    "                linewidths=0.5,\n",
    "                cbar_kws={'shrink': 0.5})\n",
    "    ax.set_title(title)\n",
    "    ax.set_xlabel('Variables')\n",
    "    ax.set_ylabel('Variables')\n",
    "\n",
    "    plt.tight_layout()\n",
    "    return f"
   ],
   "id": "ef10b2c314392d9",
   "outputs": [],
   "execution_count": 50
  },
  {
   "metadata": {
    "ExecuteTime": {
     "end_time": "2025-05-12T18:04:59.178599Z",
     "start_time": "2025-05-12T18:04:59.174173Z"
    }
   },
   "cell_type": "code",
   "source": [
    "def p_val_matrix(df):\n",
    "    \"\"\"create p-value matrix dataframe\"\"\"\n",
    "    df_p_val_mat = df.corr(method=lambda x, y: stats.pearsonr(x, y)[1]) - np.eye(len(df.columns))\n",
    "    return df_p_val_mat"
   ],
   "id": "817b73987334cb2c",
   "outputs": [],
   "execution_count": 51
  },
  {
   "metadata": {
    "ExecuteTime": {
     "end_time": "2025-05-12T18:04:59.271983Z",
     "start_time": "2025-05-12T18:04:59.267456Z"
    }
   },
   "cell_type": "code",
   "source": [
    "def p_val_series(df):\n",
    "    \"\"\"create a dataframe which has unique feature pairs and their associated level of statistical significance\"\"\"\n",
    "    upper_corr_mat = df.where(np.triu(np.ones(df.shape), k=1).astype(bool))\n",
    "    unique_p_val_pairs = upper_corr_mat.unstack().dropna()\n",
    "    df_p_val_series = unique_p_val_pairs.sort_values()\n",
    "    df_p_val_series = df_p_val_series.reset_index()\n",
    "    df_p_val_series = df_p_val_series.rename(columns={\n",
    "        'level_0': 'feature_1',\n",
    "        'level_1': 'feature_2',\n",
    "        0: 'p_value'\n",
    "    })\n",
    "    return df_p_val_series"
   ],
   "id": "c01d11a3a5fbd0ff",
   "outputs": [],
   "execution_count": 52
  },
  {
   "metadata": {
    "ExecuteTime": {
     "end_time": "2025-05-12T18:04:59.356724Z",
     "start_time": "2025-05-12T18:04:59.353288Z"
    }
   },
   "cell_type": "code",
   "source": [
    "def p_val_plot(df, title=\"P-value Heatmap (Green: Significant, White: Not Significant)\"):\n",
    "    \"\"\"create a level of statistical significance heatmap plot using seaborn\"\"\"\n",
    "    alpha = 0.05\n",
    "    mask = np.triu(np.ones_like(df, dtype=bool))\n",
    "    f, ax = plt.subplots(1, 1, figsize=(11,9))\n",
    "    green = sns.light_palette('seagreen', reverse=True, as_cmap=True)\n",
    "    green.set_over('white')\n",
    "    # cmap = sns.diverging_palette(230, 20, as_cmap=True)\n",
    "    sns.heatmap(df,\n",
    "                mask=mask,\n",
    "                cmap=green,\n",
    "                # cmap=cmap,\n",
    "                vmax=alpha,\n",
    "                vmin=0,\n",
    "                # center=0,\n",
    "                annot=False,\n",
    "                square=True,\n",
    "                linewidths=0.5,\n",
    "                cbar_kws={'shrink': 0.5})\n",
    "    ax.set_title(title)\n",
    "    ax.set_xlabel('Variables')\n",
    "    ax.set_ylabel('Variables')\n",
    "    plt.tight_layout()\n",
    "    return f"
   ],
   "id": "4329ef14b2996e0",
   "outputs": [],
   "execution_count": 53
  },
  {
   "metadata": {
    "ExecuteTime": {
     "end_time": "2025-05-12T18:05:00.389804Z",
     "start_time": "2025-05-12T18:04:59.439986Z"
    }
   },
   "cell_type": "code",
   "source": [
    "game_results_df = load_game_results_dataset()\n",
    "passing_offense_df = load_passing_offense_dataset()\n",
    "receiving_offense_df = load_receiving_offense_dataset()\n",
    "rushing_offense_df = load_rushing_offense_dataset()\n",
    "spotrac_df = load_spotrac_dataset()\n",
    "nfl_season_records_df = load_nfl_season_records_dataset()\n",
    "spotrac_nfl_records_df = load_spotrac_nfl_records_dataset()\n",
    "team_season_records_stats_df = load_team_season_records_stats_dataset()\n",
    "pos_lev_one_act_inact_df = load_spotrac_nfl_team_position_level_one_active_inactive_grouped_dataset()\n",
    "pos_lev_two_act_inact_df = load_spotrac_nfl_team_position_level_two_active_inactive_grouped_dataset()\n",
    "pos_lev_one_df = load_spotrac_nfl_team_pos_level_one_grouped_dataset()\n",
    "pos_lev_two_df = load_spotrac_nfl_team_pos_level_two_grouped_dataset()\n",
    "\n",
    "spotrac_nfl_team_season_roster_df = load_spotrac_nfl_team_season_roster_df_dataset()\n",
    "spotrac_nfl_team_season_roster_pos_df = load_spotrac_nfl_team_season_roster_pos_df_dataset()\n",
    "spotrac_nfl_team_season_roster_position_level_one_df = load_spotrac_nfl_team_season_roster_position_level_one_df_dataset()\n",
    "spotrac_nfl_team_season_roster_position_level_two_df = load_spotrac_nfl_team_season_roster_position_level_two_df_dataset()"
   ],
   "id": "cbe8d79739ecb1de",
   "outputs": [
    {
     "name": "stdout",
     "output_type": "stream",
     "text": [
      "Shape of dataframe: 26910 rows, 15 columns\n",
      "Shape of dataframe: 16046 rows, 23 columns\n",
      "Shape of dataframe: 61793 rows, 24 columns\n",
      "Shape of dataframe: 50107 rows, 24 columns\n",
      "Shape of dataframe: 59357 rows, 16 columns\n",
      "Shape of dataframe: 448 rows, 38 columns\n",
      "Shape of dataframe: 59357 rows, 54 columns\n",
      "Shape of dataframe: 4054 rows, 49 columns\n",
      "Shape of dataframe: 1344 rows, 23 columns\n",
      "Shape of dataframe: 4032 rows, 23 columns\n",
      "Shape of dataframe: 1344 rows, 13 columns\n",
      "Shape of dataframe: 4032 rows, 13 columns\n",
      "Shape of dataframe: 896 rows, 15 columns\n",
      "Shape of dataframe: 16458 rows, 16 columns\n",
      "Shape of dataframe: 2605 rows, 16 columns\n",
      "Shape of dataframe: 7893 rows, 16 columns\n"
     ]
    }
   ],
   "execution_count": 54
  },
  {
   "metadata": {},
   "cell_type": "markdown",
   "source": "# Team Active - Inactive No Positions",
   "id": "122f05c758d168eb"
  },
  {
   "metadata": {
    "ExecuteTime": {
     "end_time": "2025-05-12T18:05:00.509438Z",
     "start_time": "2025-05-12T18:05:00.496268Z"
    }
   },
   "cell_type": "code",
   "source": "spotrac_nfl_team_season_roster_position_level_one_df",
   "id": "53f8665adabae9b5",
   "outputs": [
    {
     "data": {
      "text/plain": [
       "                       team  season position_level_one roster_status  \\\n",
       "0         arizona-cardinals    2011            defense        active   \n",
       "1         arizona-cardinals    2011            defense      inactive   \n",
       "2         arizona-cardinals    2011            offense        active   \n",
       "3         arizona-cardinals    2011            offense      inactive   \n",
       "4         arizona-cardinals    2011       special_team        active   \n",
       "...                     ...     ...                ...           ...   \n",
       "2600  washington-commanders    2024            defense      inactive   \n",
       "2601  washington-commanders    2024            offense        active   \n",
       "2602  washington-commanders    2024            offense      inactive   \n",
       "2603  washington-commanders    2024       special_team        active   \n",
       "2604  washington-commanders    2024       special_team      inactive   \n",
       "\n",
       "      player_count  cap_hit_sum  position_level_one_count_prop  \\\n",
       "0               26   46212697.0                       0.448276   \n",
       "1               12    3327689.0                       0.521739   \n",
       "2               29   61041169.0                       0.500000   \n",
       "3               10    3969692.0                       0.434783   \n",
       "4                3    3775000.0                       0.051724   \n",
       "...            ...          ...                            ...   \n",
       "2600            39   15942070.0                       0.382353   \n",
       "2601            26   87344973.0                       0.490566   \n",
       "2602            56   35648630.0                       0.549020   \n",
       "2603             3    5441944.0                       0.056604   \n",
       "2604             7    2813751.0                       0.068627   \n",
       "\n",
       "      position_level_one_cap_hit_prop   w  l    pct   pf   pa  net_pts  \\\n",
       "0                            0.416222   8  8  0.500  312  348      -36   \n",
       "1                            0.447180   8  8  0.500  312  348      -36   \n",
       "2                            0.549777   8  8  0.500  312  348      -36   \n",
       "3                            0.533453   8  8  0.500  312  348      -36   \n",
       "4                            0.034000   8  8  0.500  312  348      -36   \n",
       "...                               ...  .. ..    ...  ...  ...      ...   \n",
       "2600                         0.293029  12  5  0.706  485  391       94   \n",
       "2601                         0.469022  12  5  0.706  485  391       94   \n",
       "2602                         0.655252  12  5  0.706  485  391       94   \n",
       "2603                         0.029222  12  5  0.706  485  391       94   \n",
       "2604                         0.051719  12  5  0.706  485  391       94   \n",
       "\n",
       "      div_win_pct  conf_win_pct  \n",
       "0           0.667         0.583  \n",
       "1           0.667         0.583  \n",
       "2           0.667         0.583  \n",
       "3           0.667         0.583  \n",
       "4           0.667         0.583  \n",
       "...           ...           ...  \n",
       "2600        0.667         0.750  \n",
       "2601        0.667         0.750  \n",
       "2602        0.667         0.750  \n",
       "2603        0.667         0.750  \n",
       "2604        0.667         0.750  \n",
       "\n",
       "[2605 rows x 16 columns]"
      ],
      "text/html": [
       "<div>\n",
       "<style scoped>\n",
       "    .dataframe tbody tr th:only-of-type {\n",
       "        vertical-align: middle;\n",
       "    }\n",
       "\n",
       "    .dataframe tbody tr th {\n",
       "        vertical-align: top;\n",
       "    }\n",
       "\n",
       "    .dataframe thead th {\n",
       "        text-align: right;\n",
       "    }\n",
       "</style>\n",
       "<table border=\"1\" class=\"dataframe\">\n",
       "  <thead>\n",
       "    <tr style=\"text-align: right;\">\n",
       "      <th></th>\n",
       "      <th>team</th>\n",
       "      <th>season</th>\n",
       "      <th>position_level_one</th>\n",
       "      <th>roster_status</th>\n",
       "      <th>player_count</th>\n",
       "      <th>cap_hit_sum</th>\n",
       "      <th>position_level_one_count_prop</th>\n",
       "      <th>position_level_one_cap_hit_prop</th>\n",
       "      <th>w</th>\n",
       "      <th>l</th>\n",
       "      <th>pct</th>\n",
       "      <th>pf</th>\n",
       "      <th>pa</th>\n",
       "      <th>net_pts</th>\n",
       "      <th>div_win_pct</th>\n",
       "      <th>conf_win_pct</th>\n",
       "    </tr>\n",
       "  </thead>\n",
       "  <tbody>\n",
       "    <tr>\n",
       "      <th>0</th>\n",
       "      <td>arizona-cardinals</td>\n",
       "      <td>2011</td>\n",
       "      <td>defense</td>\n",
       "      <td>active</td>\n",
       "      <td>26</td>\n",
       "      <td>46212697.0</td>\n",
       "      <td>0.448276</td>\n",
       "      <td>0.416222</td>\n",
       "      <td>8</td>\n",
       "      <td>8</td>\n",
       "      <td>0.500</td>\n",
       "      <td>312</td>\n",
       "      <td>348</td>\n",
       "      <td>-36</td>\n",
       "      <td>0.667</td>\n",
       "      <td>0.583</td>\n",
       "    </tr>\n",
       "    <tr>\n",
       "      <th>1</th>\n",
       "      <td>arizona-cardinals</td>\n",
       "      <td>2011</td>\n",
       "      <td>defense</td>\n",
       "      <td>inactive</td>\n",
       "      <td>12</td>\n",
       "      <td>3327689.0</td>\n",
       "      <td>0.521739</td>\n",
       "      <td>0.447180</td>\n",
       "      <td>8</td>\n",
       "      <td>8</td>\n",
       "      <td>0.500</td>\n",
       "      <td>312</td>\n",
       "      <td>348</td>\n",
       "      <td>-36</td>\n",
       "      <td>0.667</td>\n",
       "      <td>0.583</td>\n",
       "    </tr>\n",
       "    <tr>\n",
       "      <th>2</th>\n",
       "      <td>arizona-cardinals</td>\n",
       "      <td>2011</td>\n",
       "      <td>offense</td>\n",
       "      <td>active</td>\n",
       "      <td>29</td>\n",
       "      <td>61041169.0</td>\n",
       "      <td>0.500000</td>\n",
       "      <td>0.549777</td>\n",
       "      <td>8</td>\n",
       "      <td>8</td>\n",
       "      <td>0.500</td>\n",
       "      <td>312</td>\n",
       "      <td>348</td>\n",
       "      <td>-36</td>\n",
       "      <td>0.667</td>\n",
       "      <td>0.583</td>\n",
       "    </tr>\n",
       "    <tr>\n",
       "      <th>3</th>\n",
       "      <td>arizona-cardinals</td>\n",
       "      <td>2011</td>\n",
       "      <td>offense</td>\n",
       "      <td>inactive</td>\n",
       "      <td>10</td>\n",
       "      <td>3969692.0</td>\n",
       "      <td>0.434783</td>\n",
       "      <td>0.533453</td>\n",
       "      <td>8</td>\n",
       "      <td>8</td>\n",
       "      <td>0.500</td>\n",
       "      <td>312</td>\n",
       "      <td>348</td>\n",
       "      <td>-36</td>\n",
       "      <td>0.667</td>\n",
       "      <td>0.583</td>\n",
       "    </tr>\n",
       "    <tr>\n",
       "      <th>4</th>\n",
       "      <td>arizona-cardinals</td>\n",
       "      <td>2011</td>\n",
       "      <td>special_team</td>\n",
       "      <td>active</td>\n",
       "      <td>3</td>\n",
       "      <td>3775000.0</td>\n",
       "      <td>0.051724</td>\n",
       "      <td>0.034000</td>\n",
       "      <td>8</td>\n",
       "      <td>8</td>\n",
       "      <td>0.500</td>\n",
       "      <td>312</td>\n",
       "      <td>348</td>\n",
       "      <td>-36</td>\n",
       "      <td>0.667</td>\n",
       "      <td>0.583</td>\n",
       "    </tr>\n",
       "    <tr>\n",
       "      <th>...</th>\n",
       "      <td>...</td>\n",
       "      <td>...</td>\n",
       "      <td>...</td>\n",
       "      <td>...</td>\n",
       "      <td>...</td>\n",
       "      <td>...</td>\n",
       "      <td>...</td>\n",
       "      <td>...</td>\n",
       "      <td>...</td>\n",
       "      <td>...</td>\n",
       "      <td>...</td>\n",
       "      <td>...</td>\n",
       "      <td>...</td>\n",
       "      <td>...</td>\n",
       "      <td>...</td>\n",
       "      <td>...</td>\n",
       "    </tr>\n",
       "    <tr>\n",
       "      <th>2600</th>\n",
       "      <td>washington-commanders</td>\n",
       "      <td>2024</td>\n",
       "      <td>defense</td>\n",
       "      <td>inactive</td>\n",
       "      <td>39</td>\n",
       "      <td>15942070.0</td>\n",
       "      <td>0.382353</td>\n",
       "      <td>0.293029</td>\n",
       "      <td>12</td>\n",
       "      <td>5</td>\n",
       "      <td>0.706</td>\n",
       "      <td>485</td>\n",
       "      <td>391</td>\n",
       "      <td>94</td>\n",
       "      <td>0.667</td>\n",
       "      <td>0.750</td>\n",
       "    </tr>\n",
       "    <tr>\n",
       "      <th>2601</th>\n",
       "      <td>washington-commanders</td>\n",
       "      <td>2024</td>\n",
       "      <td>offense</td>\n",
       "      <td>active</td>\n",
       "      <td>26</td>\n",
       "      <td>87344973.0</td>\n",
       "      <td>0.490566</td>\n",
       "      <td>0.469022</td>\n",
       "      <td>12</td>\n",
       "      <td>5</td>\n",
       "      <td>0.706</td>\n",
       "      <td>485</td>\n",
       "      <td>391</td>\n",
       "      <td>94</td>\n",
       "      <td>0.667</td>\n",
       "      <td>0.750</td>\n",
       "    </tr>\n",
       "    <tr>\n",
       "      <th>2602</th>\n",
       "      <td>washington-commanders</td>\n",
       "      <td>2024</td>\n",
       "      <td>offense</td>\n",
       "      <td>inactive</td>\n",
       "      <td>56</td>\n",
       "      <td>35648630.0</td>\n",
       "      <td>0.549020</td>\n",
       "      <td>0.655252</td>\n",
       "      <td>12</td>\n",
       "      <td>5</td>\n",
       "      <td>0.706</td>\n",
       "      <td>485</td>\n",
       "      <td>391</td>\n",
       "      <td>94</td>\n",
       "      <td>0.667</td>\n",
       "      <td>0.750</td>\n",
       "    </tr>\n",
       "    <tr>\n",
       "      <th>2603</th>\n",
       "      <td>washington-commanders</td>\n",
       "      <td>2024</td>\n",
       "      <td>special_team</td>\n",
       "      <td>active</td>\n",
       "      <td>3</td>\n",
       "      <td>5441944.0</td>\n",
       "      <td>0.056604</td>\n",
       "      <td>0.029222</td>\n",
       "      <td>12</td>\n",
       "      <td>5</td>\n",
       "      <td>0.706</td>\n",
       "      <td>485</td>\n",
       "      <td>391</td>\n",
       "      <td>94</td>\n",
       "      <td>0.667</td>\n",
       "      <td>0.750</td>\n",
       "    </tr>\n",
       "    <tr>\n",
       "      <th>2604</th>\n",
       "      <td>washington-commanders</td>\n",
       "      <td>2024</td>\n",
       "      <td>special_team</td>\n",
       "      <td>inactive</td>\n",
       "      <td>7</td>\n",
       "      <td>2813751.0</td>\n",
       "      <td>0.068627</td>\n",
       "      <td>0.051719</td>\n",
       "      <td>12</td>\n",
       "      <td>5</td>\n",
       "      <td>0.706</td>\n",
       "      <td>485</td>\n",
       "      <td>391</td>\n",
       "      <td>94</td>\n",
       "      <td>0.667</td>\n",
       "      <td>0.750</td>\n",
       "    </tr>\n",
       "  </tbody>\n",
       "</table>\n",
       "<p>2605 rows × 16 columns</p>\n",
       "</div>"
      ]
     },
     "execution_count": 55,
     "metadata": {},
     "output_type": "execute_result"
    }
   ],
   "execution_count": 55
  },
  {
   "metadata": {
    "ExecuteTime": {
     "end_time": "2025-05-12T18:23:46.957238Z",
     "start_time": "2025-05-12T18:23:46.876697Z"
    }
   },
   "cell_type": "code",
   "source": [
    "# Define the columns for summary statistics\n",
    "cols = ['position_level_one_count_prop', 'position_level_one_cap_hit_prop', 'pct']\n",
    "\n",
    "# Group by roster_status and position_level_one\n",
    "grouped = spotrac_nfl_team_season_roster_position_level_one_df.groupby(['roster_status', 'position_level_one'])\n",
    "\n",
    "# Dictionary to store results\n",
    "results = {}\n",
    "\n",
    "# Iterate through each group and apply the summary_stats_df function\n",
    "for (roster_status, position_level_one), group_df in grouped:\n",
    "    # Apply the summary stats function\n",
    "    summary_table = summary_stats_df(group_df, cols)\n",
    "    # Store results with a descriptive key\n",
    "    key = f\"{roster_status}_{position_level_one}\"\n",
    "    results[key] = summary_table\n",
    "    # Save to CSV\n",
    "    summary_table.to_csv(f\"{project_data_exports_path}/summary_stats_{key}_pt_2.csv\")\n",
    "\n",
    "# Print results for each group\n",
    "for key, table in results.items():\n",
    "    print(f\"\\nSummary Statistics for {key}:\\n\")\n",
    "    print(table)"
   ],
   "id": "97387be08a0654fe",
   "outputs": [
    {
     "name": "stdout",
     "output_type": "stream",
     "text": [
      "\n",
      "Summary Statistics for active_defense:\n",
      "\n",
      "          position_level_one_count_prop  position_level_one_cap_hit_prop  \\\n",
      "count                        448.000000                       448.000000   \n",
      "mean                           0.475581                         0.465244   \n",
      "std                            0.024820                         0.083628   \n",
      "min                            0.381818                         0.155984   \n",
      "25%                            0.461538                         0.405290   \n",
      "median                         0.471698                         0.464985   \n",
      "75%                            0.490566                         0.524504   \n",
      "max                            0.566038                         0.718152   \n",
      "variance                       0.000616                         0.006994   \n",
      "\n",
      "                 pct  \n",
      "count     448.000000  \n",
      "mean        0.500237  \n",
      "std         0.191329  \n",
      "min         0.000000  \n",
      "25%         0.375000  \n",
      "median      0.500000  \n",
      "75%         0.647000  \n",
      "max         0.938000  \n",
      "variance    0.036607  \n",
      "\n",
      "Summary Statistics for active_offense:\n",
      "\n",
      "          position_level_one_count_prop  position_level_one_cap_hit_prop  \\\n",
      "count                        448.000000                       448.000000   \n",
      "mean                           0.468058                         0.498735   \n",
      "std                            0.025093                         0.083283   \n",
      "min                            0.377358                         0.243085   \n",
      "25%                            0.452830                         0.445737   \n",
      "median                         0.471698                         0.499793   \n",
      "75%                            0.482297                         0.555543   \n",
      "max                            0.563636                         0.831180   \n",
      "variance                       0.000630                         0.006936   \n",
      "\n",
      "                 pct  \n",
      "count     448.000000  \n",
      "mean        0.500237  \n",
      "std         0.191329  \n",
      "min         0.000000  \n",
      "25%         0.375000  \n",
      "median      0.500000  \n",
      "75%         0.647000  \n",
      "max         0.938000  \n",
      "variance    0.036607  \n",
      "\n",
      "Summary Statistics for active_special_team:\n",
      "\n",
      "          position_level_one_count_prop  position_level_one_cap_hit_prop  \\\n",
      "count                        448.000000                       448.000000   \n",
      "mean                           0.056361                         0.036021   \n",
      "std                            0.006558                         0.017238   \n",
      "min                            0.029851                         0.007689   \n",
      "25%                            0.055556                         0.022957   \n",
      "median                         0.056604                         0.033942   \n",
      "75%                            0.056604                         0.045368   \n",
      "max                            0.107143                         0.132088   \n",
      "variance                       0.000043                         0.000297   \n",
      "\n",
      "                 pct  \n",
      "count     448.000000  \n",
      "mean        0.500237  \n",
      "std         0.191329  \n",
      "min         0.000000  \n",
      "25%         0.375000  \n",
      "median      0.500000  \n",
      "75%         0.647000  \n",
      "max         0.938000  \n",
      "variance    0.036607  \n",
      "\n",
      "Summary Statistics for inactive_defense:\n",
      "\n",
      "          position_level_one_count_prop  position_level_one_cap_hit_prop  \\\n",
      "count                        448.000000                       448.000000   \n",
      "mean                           0.463263                         0.472370   \n",
      "std                            0.068252                         0.171372   \n",
      "min                            0.200000                         0.100166   \n",
      "25%                            0.420383                         0.356053   \n",
      "median                         0.457537                         0.472913   \n",
      "75%                            0.501068                         0.589523   \n",
      "max                            0.777778                         0.943455   \n",
      "variance                       0.004658                         0.029368   \n",
      "\n",
      "                 pct  \n",
      "count     448.000000  \n",
      "mean        0.500237  \n",
      "std         0.191329  \n",
      "min         0.000000  \n",
      "25%         0.375000  \n",
      "median      0.500000  \n",
      "75%         0.647000  \n",
      "max         0.938000  \n",
      "variance    0.036607  \n",
      "\n",
      "Summary Statistics for inactive_offense:\n",
      "\n",
      "          position_level_one_count_prop  position_level_one_cap_hit_prop  \\\n",
      "count                        448.000000                       448.000000   \n",
      "mean                           0.504900                         0.507617   \n",
      "std                            0.066871                         0.170081   \n",
      "min                            0.222222                         0.056545   \n",
      "25%                            0.465870                         0.391738   \n",
      "median                         0.506580                         0.503137   \n",
      "75%                            0.546908                         0.623376   \n",
      "max                            0.766667                         0.895734   \n",
      "variance                       0.004472                         0.028927   \n",
      "\n",
      "                 pct  \n",
      "count     448.000000  \n",
      "mean        0.500237  \n",
      "std         0.191329  \n",
      "min         0.000000  \n",
      "25%         0.375000  \n",
      "median      0.500000  \n",
      "75%         0.647000  \n",
      "max         0.938000  \n",
      "variance    0.036607  \n",
      "\n",
      "Summary Statistics for inactive_special_team:\n",
      "\n",
      "          position_level_one_count_prop  position_level_one_cap_hit_prop  \\\n",
      "count                        365.000000                       365.000000   \n",
      "mean                           0.039077                         0.024563   \n",
      "std                            0.025560                         0.037203   \n",
      "min                            0.006098                         0.000005   \n",
      "25%                            0.020833                         0.002584   \n",
      "median                         0.032787                         0.011365   \n",
      "75%                            0.053763                         0.030810   \n",
      "max                            0.166667                         0.410799   \n",
      "variance                       0.000653                         0.001384   \n",
      "\n",
      "                 pct  \n",
      "count     365.000000  \n",
      "mean        0.495463  \n",
      "std         0.185391  \n",
      "min         0.063000  \n",
      "25%         0.375000  \n",
      "median      0.500000  \n",
      "75%         0.625000  \n",
      "max         0.938000  \n",
      "variance    0.034370  \n"
     ]
    }
   ],
   "execution_count": 58
  },
  {
   "metadata": {
    "ExecuteTime": {
     "end_time": "2025-05-12T18:32:24.832772Z",
     "start_time": "2025-05-12T18:32:17.373545Z"
    }
   },
   "cell_type": "code",
   "source": [
    "overall_season_roster_status_pos_lev_one_cap_hit_prop_boxplot = sns.catplot(\n",
    "    spotrac_nfl_team_season_roster_position_level_one_df,\n",
    "    x='season',\n",
    "    y='position_level_one_cap_hit_prop',\n",
    "    hue='roster_status',\n",
    "    col='position_level_one',\n",
    "    kind='box',\n",
    "    height=5,  # Height of each facet\n",
    "    aspect=1.5,  # Aspect ratio (width/height) for each facet\n",
    "    width=0.4,  # Width of boxes\n",
    "    palette='Set2',  # Colorblind-friendly palette\n",
    "    fliersize=3,  # Size of outlier markers\n",
    "    linewidth=1.5,  # Line width for boxes\n",
    "\n",
    ")\n",
    "\n",
    "## Set axis labels and customize facet titles\n",
    "overall_season_roster_status_pos_lev_one_cap_hit_prop_boxplot.set_axis_labels('NFL Season', 'Proportion of Team Salary Cap')\n",
    "overall_season_roster_status_pos_lev_one_cap_hit_prop_boxplot.set_titles(\"{col_name}\", size=14)  # Use position_level_one as facet title\n",
    "\n",
    "# Rotate x-axis labels for readability\n",
    "for ax in overall_season_roster_status_pos_lev_one_cap_hit_prop_boxplot.axes.flat:\n",
    "    ax.tick_params(axis='x', rotation=45)\n",
    "\n",
    "# Move legend outside the plot\n",
    "sns.move_legend(\n",
    "    overall_season_roster_status_pos_lev_one_cap_hit_prop_boxplot,\n",
    "    loc='center right',\n",
    "    bbox_to_anchor=(1.02, 0.5),\n",
    "    title='Roster Status',\n",
    "    frameon=True,\n",
    "\n",
    ")\n",
    "\n",
    "# Add a suptitle for the entire figure\n",
    "overall_season_roster_status_pos_lev_one_cap_hit_prop_boxplot.figure.suptitle('Proportion of Salary Cap by Roster Status and Position per Season', fontsize=16, y=1.05)\n",
    "\n",
    "# Adjust layout to prevent overlap\n",
    "overall_season_roster_status_pos_lev_one_cap_hit_prop_boxplot.tight_layout()\n",
    "\n",
    "# Save the plot with high resolution and proper bounding\n",
    "overall_season_roster_status_pos_lev_one_cap_hit_prop_boxplot.savefig(f'{project_data_exports_path}/overall_season_roster_status_pos_lev_one_cap_hit_prop_boxplot.png', dpi=300, bbox_inches='tight')"
   ],
   "id": "7dce2f137f0044e7",
   "outputs": [
    {
     "data": {
      "text/plain": [
       "<Figure size 2358.6x500 with 3 Axes>"
      ],
      "image/png": "[encoded data removed]"
     },
     "metadata": {},
     "output_type": "display_data"
    }
   ],
   "execution_count": 65
  },
  {
   "metadata": {
    "ExecuteTime": {
     "end_time": "2025-05-12T18:35:27.417002Z",
     "start_time": "2025-05-12T18:35:21.849292Z"
    }
   },
   "cell_type": "code",
   "source": [
    "overall_season_roster_status_pos_lev_one_player_count_prop_boxplot = sns.catplot(\n",
    "    spotrac_nfl_team_season_roster_position_level_one_df,\n",
    "    x='season',\n",
    "    y='position_level_one_count_prop',\n",
    "    hue='roster_status',\n",
    "    col='position_level_one',\n",
    "    kind='box',\n",
    "    height=5,  # Height of each facet\n",
    "    aspect=1.5,  # Aspect ratio (width/height) for each facet\n",
    "    width=0.4,  # Width of boxes\n",
    "    palette='Set2',  # Colorblind-friendly palette\n",
    "    fliersize=3,  # Size of outlier markers\n",
    "    linewidth=1.5,  # Line width for boxes\n",
    "\n",
    ")\n",
    "\n",
    "## Set axis labels and customize facet titles\n",
    "overall_season_roster_status_pos_lev_one_player_count_prop_boxplot.set_axis_labels('NFL Season', 'Proportion of Team '\n",
    "                                                                                                 'Player Count')\n",
    "overall_season_roster_status_pos_lev_one_player_count_prop_boxplot.set_titles(\"{col_name}\", size=14)  # Use position_level_one as facet title\n",
    "\n",
    "# Rotate x-axis labels for readability\n",
    "for ax in overall_season_roster_status_pos_lev_one_player_count_prop_boxplot.axes.flat:\n",
    "    ax.tick_params(axis='x', rotation=45)\n",
    "\n",
    "# Move legend outside the plot\n",
    "sns.move_legend(\n",
    "    overall_season_roster_status_pos_lev_one_player_count_prop_boxplot,\n",
    "    loc='center right',\n",
    "    bbox_to_anchor=(1.02, 0.5),\n",
    "    title='Roster Status',\n",
    "    frameon=True,\n",
    "\n",
    ")\n",
    "\n",
    "# Add a suptitle for the entire figure\n",
    "overall_season_roster_status_pos_lev_one_player_count_prop_boxplot.figure.suptitle('Proportion of Player Count by '\n",
    "                                                                                   'Roster Status and Position per Season', fontsize=16, y=1.05)\n",
    "\n",
    "# Adjust layout to prevent overlap\n",
    "overall_season_roster_status_pos_lev_one_player_count_prop_boxplot.tight_layout()\n",
    "\n",
    "# Save the plot with high resolution and proper bounding\n",
    "overall_season_roster_status_pos_lev_one_player_count_prop_boxplot.savefig(f'{project_data_exports_path}/overall_season_roster_status_pos_lev_one_player_count_prop_boxplot.png', dpi=300, bbox_inches='tight')"
   ],
   "id": "6599f3051b567b6c",
   "outputs": [
    {
     "data": {
      "text/plain": [
       "<Figure size 2358.6x500 with 3 Axes>"
      ],
      "image/png": "[encoded data removed]"
     },
     "metadata": {},
     "output_type": "display_data"
    }
   ],
   "execution_count": 67
  }
 ],
 "metadata": {
  "kernelspec": {
   "display_name": "Python 3",
   "language": "python",
   "name": "python3"
  },
  "language_info": {
   "codemirror_mode": {
    "name": "ipython",
    "version": 2
   },
   "file_extension": ".py",
   "mimetype": "text/x-python",
   "name": "python",
   "nbconvert_exporter": "python",
   "pygments_lexer": "ipython2",
   "version": "2.7.6"
  }
 },
 "nbformat": 4,
 "nbformat_minor": 5
}
